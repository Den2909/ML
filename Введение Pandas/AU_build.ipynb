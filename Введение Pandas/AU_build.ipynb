{
 "cells": [
  {
   "cell_type": "code",
   "execution_count": null,
   "metadata": {},
   "outputs": [],
   "source": []
  }
 ],
 "metadata": {
  "kernelspec": {
   "display_name": "Python 3.9.10 64-bit",
   "language": "python",
   "name": "python3"
  },
  "language_info": {
   "name": "python",
   "version": "3.9.10"
  },
  "orig_nbformat": 4,
  "vscode": {
   "interpreter": {
    "hash": "5dd7eab6d9f230cceb3b38cdcfcae6b21f9ce30d3267cb45233a07500a4328e0"
   }
  }
 },
 "nbformat": 4,
 "nbformat_minor": 2
}
